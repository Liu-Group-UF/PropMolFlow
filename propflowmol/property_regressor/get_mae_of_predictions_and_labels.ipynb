{
 "cells": [
  {
   "cell_type": "code",
   "execution_count": null,
   "metadata": {
    "tags": []
   },
   "outputs": [
    {
     "name": "stderr",
     "output_type": "stream",
     "text": [
      "/blue/mingjieliu/jiruijin/program/anaconda3/envs/flowmol/lib/python3.10/site-packages/tqdm/auto.py:21: TqdmWarning: IProgress not found. Please update jupyter and ipywidgets. See https://ipywidgets.readthedocs.io/en/stable/user_install.html\n",
      "  from .autonotebook import tqdm as notebook_tqdm\n"
     ]
    }
   ],
   "source": [
    "from propflowmol.property_regressor.test_regressor import MoleculePredictor\n",
    "from pathlib import Path"
   ]
  },
  {
   "cell_type": "code",
   "execution_count": null,
   "metadata": {
    "tags": []
   },
   "outputs": [
    {
     "name": "stderr",
     "output_type": "stream",
     "text": [
      "Processing molecules:   0%|          | 0/1000 [00:00<?, ?it/s][11:00:09] Explicit valence for atom # 3 C, 5, is greater than permitted\n",
      "[11:00:09] ERROR: Could not sanitize molecule ending on line 544\n",
      "[11:00:09] ERROR: Explicit valence for atom # 3 C, 5, is greater than permitted\n",
      "[11:00:09] Explicit valence for atom # 10 N, 4, is greater than permitted\n",
      "[11:00:09] ERROR: Could not sanitize molecule ending on line 1145\n",
      "[11:00:09] ERROR: Explicit valence for atom # 10 N, 4, is greater than permitted\n",
      "[11:00:09] Explicit valence for atom # 0 C, 5, is greater than permitted\n",
      "[11:00:09] ERROR: Could not sanitize molecule ending on line 3222\n",
      "[11:00:09] ERROR: Explicit valence for atom # 0 C, 5, is greater than permitted\n",
      "Processing molecules:   8%|▊         | 80/1000 [00:00<00:01, 792.34it/s][11:00:09] Explicit valence for atom # 0 C, 5, is greater than permitted\n",
      "[11:00:09] ERROR: Could not sanitize molecule ending on line 3489\n",
      "[11:00:09] ERROR: Explicit valence for atom # 0 C, 5, is greater than permitted\n",
      "[11:00:09] Explicit valence for atom # 1 H, 4, is greater than permitted\n",
      "[11:00:09] ERROR: Could not sanitize molecule ending on line 3882\n",
      "[11:00:09] ERROR: Explicit valence for atom # 1 H, 4, is greater than permitted\n",
      "[11:00:09] Explicit valence for atom # 17 C, 5, is greater than permitted\n",
      "[11:00:09] ERROR: Could not sanitize molecule ending on line 6864\n",
      "[11:00:09] ERROR: Explicit valence for atom # 17 C, 5, is greater than permitted\n",
      "Processing molecules:  18%|█▊        | 175/1000 [00:00<00:00, 880.42it/s][11:00:09] Explicit valence for atom # 0 C, 5, is greater than permitted\n",
      "[11:00:09] ERROR: Could not sanitize molecule ending on line 9581\n",
      "[11:00:09] ERROR: Explicit valence for atom # 0 C, 5, is greater than permitted\n",
      "[11:00:09] Explicit valence for atom # 18 C, 5, is greater than permitted\n",
      "[11:00:09] ERROR: Could not sanitize molecule ending on line 10419\n",
      "[11:00:09] ERROR: Explicit valence for atom # 18 C, 5, is greater than permitted\n",
      "Processing molecules:  27%|██▋       | 271/1000 [00:00<00:00, 916.05it/s][11:00:10] Explicit valence for atom # 1 C, 5, is greater than permitted\n",
      "[11:00:10] ERROR: Could not sanitize molecule ending on line 12166\n",
      "[11:00:10] ERROR: Explicit valence for atom # 1 C, 5, is greater than permitted\n",
      "[11:00:10] Explicit valence for atom # 16 H, 2, is greater than permitted\n",
      "[11:00:10] ERROR: Could not sanitize molecule ending on line 12483\n",
      "[11:00:10] ERROR: Explicit valence for atom # 16 H, 2, is greater than permitted\n",
      "[11:00:10] Explicit valence for atom # 0 C, 5, is greater than permitted\n",
      "[11:00:10] ERROR: Could not sanitize molecule ending on line 14064\n",
      "[11:00:10] ERROR: Explicit valence for atom # 0 C, 5, is greater than permitted\n",
      "[11:00:10] Explicit valence for atom # 1 C, 5, is greater than permitted\n",
      "[11:00:10] ERROR: Could not sanitize molecule ending on line 15197\n",
      "[11:00:10] ERROR: Explicit valence for atom # 1 C, 5, is greater than permitted\n",
      "Processing molecules:  37%|███▋      | 372/1000 [00:00<00:00, 912.08it/s][11:00:10] Explicit valence for atom # 13 N, 4, is greater than permitted\n",
      "[11:00:10] ERROR: Could not sanitize molecule ending on line 16352\n",
      "[11:00:10] ERROR: Explicit valence for atom # 13 N, 4, is greater than permitted\n",
      "[11:00:10] Explicit valence for atom # 11 O, 3, is greater than permitted\n",
      "[11:00:10] ERROR: Could not sanitize molecule ending on line 19291\n",
      "[11:00:10] ERROR: Explicit valence for atom # 11 O, 3, is greater than permitted\n",
      "Processing molecules:  47%|████▋     | 468/1000 [00:00<00:00, 919.93it/s][11:00:10] Explicit valence for atom # 19 O, 3, is greater than permitted\n",
      "[11:00:10] ERROR: Could not sanitize molecule ending on line 21707\n",
      "[11:00:10] ERROR: Explicit valence for atom # 19 O, 3, is greater than permitted\n",
      "[11:00:10] Explicit valence for atom # 7 C, 5, is greater than permitted\n",
      "[11:00:10] ERROR: Could not sanitize molecule ending on line 22339\n",
      "[11:00:10] ERROR: Explicit valence for atom # 7 C, 5, is greater than permitted\n",
      "[11:00:10] Explicit valence for atom # 12 C, 5, is greater than permitted\n",
      "[11:00:10] ERROR: Could not sanitize molecule ending on line 22897\n",
      "[11:00:10] ERROR: Explicit valence for atom # 12 C, 5, is greater than permitted\n",
      "[11:00:10] Explicit valence for atom # 19 C, 5, is greater than permitted\n",
      "[11:00:10] ERROR: Could not sanitize molecule ending on line 22944\n",
      "[11:00:10] ERROR: Explicit valence for atom # 19 C, 5, is greater than permitted\n",
      "[11:00:10] Explicit valence for atom # 15 C, 5, is greater than permitted\n",
      "[11:00:10] ERROR: Could not sanitize molecule ending on line 23723\n",
      "[11:00:10] ERROR: Explicit valence for atom # 15 C, 5, is greater than permitted\n",
      "Processing molecules:  57%|█████▋    | 569/1000 [00:00<00:00, 947.07it/s][11:00:10] Explicit valence for atom # 1 O, 3, is greater than permitted\n",
      "[11:00:10] ERROR: Could not sanitize molecule ending on line 26057\n",
      "[11:00:10] ERROR: Explicit valence for atom # 1 O, 3, is greater than permitted\n",
      "[11:00:10] Explicit valence for atom # 6 C, 5, is greater than permitted\n",
      "[11:00:10] ERROR: Could not sanitize molecule ending on line 26281\n",
      "[11:00:10] ERROR: Explicit valence for atom # 6 C, 5, is greater than permitted\n",
      "[11:00:10] Explicit valence for atom # 3 C greater than permitted\n",
      "[11:00:10] ERROR: Could not sanitize molecule ending on line 27764\n",
      "[11:00:10] ERROR: Explicit valence for atom # 3 C greater than permitted\n",
      "Processing molecules:  66%|██████▋   | 664/1000 [00:00<00:00, 941.14it/s][11:00:10] Explicit valence for atom # 1 C, 6, is greater than permitted\n",
      "[11:00:10] ERROR: Could not sanitize molecule ending on line 29731\n",
      "[11:00:10] ERROR: Explicit valence for atom # 1 C, 6, is greater than permitted\n",
      "[11:00:10] Explicit valence for atom # 1 C, 5, is greater than permitted\n",
      "[11:00:10] ERROR: Could not sanitize molecule ending on line 30658\n",
      "[11:00:10] ERROR: Explicit valence for atom # 1 C, 5, is greater than permitted\n",
      "[11:00:10] Explicit valence for atom # 1 C, 5, is greater than permitted\n",
      "[11:00:10] ERROR: Could not sanitize molecule ending on line 31038\n",
      "[11:00:10] ERROR: Explicit valence for atom # 1 C, 5, is greater than permitted\n",
      "[11:00:10] Explicit valence for atom # 9 C, 5, is greater than permitted\n",
      "[11:00:10] ERROR: Could not sanitize molecule ending on line 32390\n",
      "[11:00:10] ERROR: Explicit valence for atom # 9 C, 5, is greater than permitted\n",
      "Processing molecules:  76%|███████▋  | 763/1000 [00:00<00:00, 951.63it/s][11:00:10] Explicit valence for atom # 1 C, 5, is greater than permitted\n",
      "[11:00:10] ERROR: Could not sanitize molecule ending on line 32989\n",
      "[11:00:10] ERROR: Explicit valence for atom # 1 C, 5, is greater than permitted\n",
      "[11:00:10] Explicit valence for atom # 14 O, 3, is greater than permitted\n",
      "[11:00:10] ERROR: Could not sanitize molecule ending on line 35843\n",
      "[11:00:10] ERROR: Explicit valence for atom # 14 O, 3, is greater than permitted\n",
      "[11:00:10] Explicit valence for atom # 8 C, 5, is greater than permitted\n",
      "[11:00:10] ERROR: Could not sanitize molecule ending on line 36120\n",
      "[11:00:10] ERROR: Explicit valence for atom # 8 C, 5, is greater than permitted\n",
      "Processing molecules:  86%|████████▌ | 859/1000 [00:00<00:00, 937.31it/s][11:00:10] Explicit valence for atom # 8 C, 5, is greater than permitted\n",
      "[11:00:10] ERROR: Could not sanitize molecule ending on line 39520\n",
      "[11:00:10] ERROR: Explicit valence for atom # 8 C, 5, is greater than permitted\n",
      "[11:00:10] Explicit valence for atom # 3 C, 5, is greater than permitted\n",
      "[11:00:10] ERROR: Could not sanitize molecule ending on line 39843\n",
      "[11:00:10] ERROR: Explicit valence for atom # 3 C, 5, is greater than permitted\n",
      "[11:00:10] Explicit valence for atom # 11 C, 5, is greater than permitted\n",
      "[11:00:10] ERROR: Could not sanitize molecule ending on line 40044\n",
      "[11:00:10] ERROR: Explicit valence for atom # 11 C, 5, is greater than permitted\n",
      "Processing molecules:  96%|█████████▌| 956/1000 [00:01<00:00, 945.32it/s][11:00:10] Explicit valence for atom # 6 C, 5, is greater than permitted\n",
      "[11:00:10] ERROR: Could not sanitize molecule ending on line 41986\n",
      "[11:00:10] ERROR: Explicit valence for atom # 6 C, 5, is greater than permitted\n",
      "[11:00:10] Explicit valence for atom # 15 C, 5, is greater than permitted\n",
      "[11:00:10] ERROR: Could not sanitize molecule ending on line 42463\n",
      "[11:00:10] ERROR: Explicit valence for atom # 15 C, 5, is greater than permitted\n",
      "[11:00:10] Explicit valence for atom # 1 C, 5, is greater than permitted\n",
      "[11:00:10] ERROR: Could not sanitize molecule ending on line 42641\n",
      "[11:00:10] ERROR: Explicit valence for atom # 1 C, 5, is greater than permitted\n",
      "Processing molecules: 100%|██████████| 1000/1000 [00:01<00:00, 932.26it/s]\n"
     ]
    }
   ],
   "source": [
    "config = './configs/test.yaml' # give the path to the config file for property regressor\n",
    "checkpoint = './model_output/cv/checkpoints/last.ckpt' # give the path to the checkpoint for property regressor\n",
    "property_name = 'cv' # give the name of the property to be predicted\n",
    "current_dir = Path.cwd()\n",
    "parent_dir = current_dir.parent.parent\n",
    "properties_values = parent_dir/'data/qm9_raw/cv_1000_many2many.npy'\n",
    "input_path = parent_dir/'conditional_sampled_sdf'/'conditonal_qm9_1000_many2many_cv_gaussian_concat_sum.sdf'\n",
    "input_path = Path(input_path)\n",
    "\n",
    "predictor = MoleculePredictor(checkpoint, config, property_name)\n",
    "properties = np.load(properties_values).tolist()\n",
    "graphs, filtered_properties = predictor.process_sdf(str(input_path), properties)"
   ]
  },
  {
   "cell_type": "code",
   "execution_count": null,
   "metadata": {
    "tags": []
   },
   "outputs": [],
   "source": [
    "# do the prediction\n",
    "predictions = predictor.predict(graphs)\n",
    "predictions = predictions.squeeze().numpy()\n",
    "# calculate the MAE of input properties and predicted properties\n",
    "calculate_mae(filtered_properties,predictions)"
   ]
  },
  {
   "cell_type": "code",
   "execution_count": null,
   "metadata": {},
   "outputs": [],
   "source": []
  }
 ],
 "metadata": {
  "kernelspec": {
   "display_name": "flowmol",
   "language": "python",
   "name": "flowmol"
  },
  "language_info": {
   "codemirror_mode": {
    "name": "ipython",
    "version": 3
   },
   "file_extension": ".py",
   "mimetype": "text/x-python",
   "name": "python",
   "nbconvert_exporter": "python",
   "pygments_lexer": "ipython3",
   "version": "3.10.16"
  }
 },
 "nbformat": 4,
 "nbformat_minor": 4
}
