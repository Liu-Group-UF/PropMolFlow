{
 "cells": [
  {
   "cell_type": "code",
   "execution_count": 4,
   "id": "b17aa034-ea86-46bd-a522-3d13108cbfa7",
   "metadata": {
    "tags": []
   },
   "outputs": [
    {
     "data": {
      "text/plain": [
       "Index(['mol_id', 'A', 'B', 'C', 'mu', 'alpha', 'homo', 'lumo', 'gap', 'r2',\n",
       "       'zpve', 'u0', 'u298', 'h298', 'g298', 'cv', 'u0_atom', 'u298_atom',\n",
       "       'h298_atom', 'g298_atom'],\n",
       "      dtype='object')"
      ]
     },
     "execution_count": 4,
     "metadata": {},
     "output_type": "execute_result"
    }
   ],
   "source": [
    "import pandas as pd\n",
    "import numpy as np\n",
    "import seaborn as sns\n",
    "df = pd.read_csv(\"gdb9.sdf.csv\")\n",
    "df.columns  \n",
    "# mu:7.3 alpha:100 homo:-0.17 lumo:0.15 cv:44 gap:0.393"
   ]
  },
  {
   "cell_type": "code",
   "execution_count": null,
   "id": "7fef434a-1436-4973-8546-149922ec06f1",
   "metadata": {
    "tags": []
   },
   "outputs": [],
   "source": [
    "def return_mean_std(df): # this function define how we get one2many values for six properites\n",
    "    value = df.mean() + 3 * df.std()\n",
    "    return value"
   ]
  },
  {
   "cell_type": "code",
   "execution_count": 10,
   "id": "7d724d63-40a4-4a27-8545-f7d0ab748608",
   "metadata": {
    "tags": []
   },
   "outputs": [
    {
     "data": {
      "text/plain": [
       "0.3936570348258564"
      ]
     },
     "execution_count": 10,
     "metadata": {},
     "output_type": "execute_result"
    }
   ],
   "source": [
    "alpha_value = return_mean_std(df['gap'])\n",
    "alpha_value"
   ]
  },
  {
   "cell_type": "code",
   "execution_count": 15,
   "id": "4f3fa7bb",
   "metadata": {},
   "outputs": [
    {
     "name": "stderr",
     "output_type": "stream",
     "text": [
      "/blue/mingjieliu/jiruijin/program/anaconda3/envs/flowmol/lib/python3.10/site-packages/numpy/core/fromnumeric.py:59: FutureWarning: 'DataFrame.swapaxes' is deprecated and will be removed in a future version. Please use 'DataFrame.transpose' instead.\n",
      "  return bound(*args, **kwds)\n"
     ]
    }
   ],
   "source": [
    "n_samples = df.shape[0]\n",
    "n_train = 100000\n",
    "n_test = int(0.1 * n_samples)\n",
    "n_val = n_samples - (n_train + n_test)\n",
    "train, val, test = np.split(df.sample(frac=1, random_state=42), [n_train, n_val + n_train])"
   ]
  },
  {
   "cell_type": "code",
   "execution_count": null,
   "id": "8795db93-77ae-4e7b-8965-d3e04056a0fd",
   "metadata": {
    "tags": []
   },
   "outputs": [],
   "source": [
    "valid_ids = np.load('valid_id.npy')  # valid_id.npy is got from running process_qm9_cond.py\n",
    "valid_mol_idxs = valid_ids\n",
    "n_samples = len(valid_mol_idxs)\n",
    "n_train = 100000\n",
    "n_test = int(0.1 * n_samples)\n",
    "n_val = n_samples - (n_train + n_test)"
   ]
  },
  {
   "cell_type": "code",
   "execution_count": 6,
   "id": "61e099f8-a946-42cf-a59d-0215107c84f6",
   "metadata": {
    "tags": []
   },
   "outputs": [],
   "source": [
    "np.random.seed(42)  # For reproducibility\n",
    "shuffled_indices = np.random.permutation(n_samples)"
   ]
  },
  {
   "cell_type": "code",
   "execution_count": 7,
   "id": "923dd440-484f-4b32-bf8d-e3dca6a843a7",
   "metadata": {
    "tags": []
   },
   "outputs": [],
   "source": [
    "train_idx = shuffled_indices[:n_train]\n",
    "val_idx = shuffled_indices[n_train:n_train+n_val]\n",
    "test_idx = shuffled_indices[n_train+n_val:]  \n",
    "train_mol_idx = [valid_mol_idxs[i] for i in train_idx]\n",
    "val_mol_idx = [valid_mol_idxs[i] for i in val_idx]\n",
    "test_mol_idx = [valid_mol_idxs[i] for i in test_idx]"
   ]
  },
  {
   "cell_type": "code",
   "execution_count": 8,
   "id": "123af8e9-63df-41c9-b132-9fa78ed2e65d",
   "metadata": {
    "tags": []
   },
   "outputs": [],
   "source": [
    "train_df = df.iloc[train_mol_idx]\n",
    "val_df = df.iloc[val_mol_idx]\n",
    "test_df = df.iloc[test_mol_idx]"
   ]
  },
  {
   "cell_type": "code",
   "execution_count": 10,
   "id": "70dfce4f-1744-41b5-8aa3-9c86f1549734",
   "metadata": {
    "tags": []
   },
   "outputs": [
    {
     "data": {
      "text/plain": [
       "20917     27.234\n",
       "112299    31.381\n",
       "118038    38.425\n",
       "28094     30.883\n",
       "92790     33.467\n",
       "           ...  \n",
       "116027    31.338\n",
       "158       18.624\n",
       "20052     25.304\n",
       "45996     30.210\n",
       "110260    36.534\n",
       "Name: cv, Length: 100000, dtype: float64"
      ]
     },
     "execution_count": 10,
     "metadata": {},
     "output_type": "execute_result"
    }
   ],
   "source": [
    "train_df[\"cv\"]"
   ]
  },
  {
   "cell_type": "code",
   "execution_count": 12,
   "id": "23cab858-76ae-47df-b1ea-2dfaa97bdeb7",
   "metadata": {
    "tags": []
   },
   "outputs": [
    {
     "data": {
      "text/plain": [
       "41356     27.781\n",
       "7717      24.326\n",
       "82531     35.069\n",
       "107912    32.276\n",
       "6997      32.799\n",
       "           ...  \n",
       "51817     30.470\n",
       "104632    36.410\n",
       "89193     33.988\n",
       "15395     30.519\n",
       "25366     27.084\n",
       "Name: cv, Length: 1000, dtype: float64"
      ]
     },
     "execution_count": 12,
     "metadata": {},
     "output_type": "execute_result"
    }
   ],
   "source": [
    "sampled_data = train_df[\"cv\"].sample(n=1000, random_state=42)\n",
    "sampled_data"
   ]
  },
  {
   "cell_type": "code",
   "execution_count": 15,
   "id": "6ed14e98-78cc-45cf-b62e-74095918ef16",
   "metadata": {
    "tags": []
   },
   "outputs": [],
   "source": [
    "np.save(\"cv_1000_many2many.npy\", sampled_data)"
   ]
  },
  {
   "cell_type": "code",
   "execution_count": 14,
   "id": "f6462e24-da6e-4fb0-9c3e-850d8df30495",
   "metadata": {
    "tags": []
   },
   "outputs": [
    {
     "data": {
      "text/plain": [
       "<Axes: xlabel='cv', ylabel='Count'>"
      ]
     },
     "execution_count": 14,
     "metadata": {},
     "output_type": "execute_result"
    },
    {
     "data": {
      "image/png": "[encoded data removed]",
      "text/plain": [
       "<Figure size 640x480 with 1 Axes>"
      ]
     },
     "metadata": {},
     "output_type": "display_data"
    }
   ],
   "source": [
    "sns.histplot(sampled_data)"
   ]
  },
  {
   "cell_type": "code",
   "execution_count": 13,
   "id": "a840007c-001d-4d3e-b12e-ff4c281410ac",
   "metadata": {
    "tags": []
   },
   "outputs": [
    {
     "data": {
      "text/plain": [
       "<Axes: xlabel='cv', ylabel='Count'>"
      ]
     },
     "execution_count": 13,
     "metadata": {},
     "output_type": "execute_result"
    },
    {
     "data": {
      "image/png": "[encoded data removed]",
      "text/plain": [
       "<Figure size 640x480 with 1 Axes>"
      ]
     },
     "metadata": {},
     "output_type": "display_data"
    }
   ],
   "source": [
    "import seaborn as sns\n",
    "\n",
    "sns.histplot(train_df['cv'])"
   ]
  },
  {
   "cell_type": "code",
   "execution_count": 42,
   "id": "7a85c0e6-235c-4e29-ba20-fbeacf6679d1",
   "metadata": {
    "tags": []
   },
   "outputs": [
    {
     "data": {
      "text/plain": [
       "0.0246"
      ]
     },
     "execution_count": 42,
     "metadata": {},
     "output_type": "execute_result"
    }
   ],
   "source": [
    "df.iloc[valid_mol_idxs]['gap'].min()"
   ]
  },
  {
   "cell_type": "code",
   "execution_count": 43,
   "id": "e0a23768-6a58-4916-8dc8-2635d5c61f09",
   "metadata": {
    "tags": []
   },
   "outputs": [
    {
     "data": {
      "text/plain": [
       "0.6221"
      ]
     },
     "execution_count": 43,
     "metadata": {},
     "output_type": "execute_result"
    }
   ],
   "source": [
    "df.iloc[valid_mol_idxs]['gap'].max()"
   ]
  },
  {
   "cell_type": "code",
   "execution_count": 12,
   "id": "60a1abb3-240c-40cb-8e84-6cec9fb32568",
   "metadata": {
    "tags": []
   },
   "outputs": [],
   "source": [
    "filtered_df = train_df[train_df['mu'] >= 7.3]"
   ]
  },
  {
   "cell_type": "code",
   "execution_count": 14,
   "id": "96412478-cb5e-4a1d-a4d6-6e98f62be6ad",
   "metadata": {
    "tags": []
   },
   "outputs": [
    {
     "data": {
      "text/plain": [
       "0.00507"
      ]
     },
     "execution_count": 14,
     "metadata": {},
     "output_type": "execute_result"
    }
   ],
   "source": [
    "507/100000"
   ]
  },
  {
   "cell_type": "code",
   "execution_count": 15,
   "id": "a234a895-7815-4c0b-a4f2-781a0e6b13c0",
   "metadata": {
    "tags": []
   },
   "outputs": [
    {
     "data": {
      "text/plain": [
       "0.055"
      ]
     },
     "execution_count": 15,
     "metadata": {},
     "output_type": "execute_result"
    }
   ],
   "source": [
    "55/1000"
   ]
  },
  {
   "cell_type": "code",
   "execution_count": 26,
   "id": "6ecd6c2a-b541-42b4-90fa-28b058a9c2b8",
   "metadata": {
    "tags": []
   },
   "outputs": [
    {
     "data": {
      "text/plain": [
       "Index([   830,      0,  23861,    132,  23864,  23905, 133620,    104,  23887,\n",
       "       133758,    183, 133564,     12, 133549,      6, 133743,   4227,     38,\n",
       "        23865, 133607, 133653, 133806, 133795],\n",
       "      dtype='int64')"
      ]
     },
     "execution_count": 26,
     "metadata": {},
     "output_type": "execute_result"
    }
   ],
   "source": [
    "filtered_df.index"
   ]
  },
  {
   "cell_type": "code",
   "execution_count": 51,
   "id": "cf6f7243-069c-48b7-80da-02f0fc5552a0",
   "metadata": {
    "tags": []
   },
   "outputs": [
    {
     "data": {
      "text/plain": [
       "115"
      ]
     },
     "execution_count": 51,
     "metadata": {},
     "output_type": "execute_result"
    }
   ],
   "source": [
    "len(train_df['cv'][train_df['cv']>=44])"
   ]
  },
  {
   "cell_type": "code",
   "execution_count": 39,
   "id": "b0ff0ff3-99f9-4cea-a729-55cfdc1fbc8b",
   "metadata": {
    "tags": []
   },
   "outputs": [],
   "source": [
    "filtered_df_2 =df.iloc[valid_mol_idxs][df.iloc[valid_mol_idxs]['gap'] >= 0.38]"
   ]
  },
  {
   "cell_type": "code",
   "execution_count": 40,
   "id": "f40c7e1b-5945-49e9-8f41-28676cd46ffe",
   "metadata": {
    "tags": []
   },
   "outputs": [
    {
     "data": {
      "text/plain": [
       "79"
      ]
     },
     "execution_count": 40,
     "metadata": {},
     "output_type": "execute_result"
    }
   ],
   "source": [
    "len(filtered_df_2)"
   ]
  },
  {
   "cell_type": "code",
   "execution_count": 101,
   "id": "0d975e59-f176-4736-926f-aca6ed7b7e89",
   "metadata": {
    "tags": []
   },
   "outputs": [],
   "source": [
    "properties_tensor = torch.tensor(train_df['gap'].values, dtype=torch.float32)\n",
    "properties_mean = properties_tensor.mean(dim=0)\n",
    "properties_std = properties_tensor.std(dim=0)"
   ]
  },
  {
   "cell_type": "code",
   "execution_count": 103,
   "id": "a236d9ae-9d31-4651-8375-b3d9f0366c7a",
   "metadata": {
    "tags": []
   },
   "outputs": [
    {
     "data": {
      "text/plain": [
       "tensor(3.1376)"
      ]
     },
     "execution_count": 103,
     "metadata": {},
     "output_type": "execute_result"
    }
   ],
   "source": [
    "(0.4-properties_mean)/properties_std"
   ]
  },
  {
   "cell_type": "code",
   "execution_count": 91,
   "id": "a9ef4c46-df0c-4d1d-b2b9-03d0a3af1a05",
   "metadata": {
    "tags": []
   },
   "outputs": [
    {
     "data": {
      "text/plain": [
       "20917"
      ]
     },
     "execution_count": 91,
     "metadata": {},
     "output_type": "execute_result"
    }
   ],
   "source": [
    "train_mol_idx[0]"
   ]
  },
  {
   "cell_type": "code",
   "execution_count": 92,
   "id": "d17f26d9-0f64-46bc-bcef-e626581cddc2",
   "metadata": {
    "tags": []
   },
   "outputs": [
    {
     "data": {
      "text/plain": [
       "20351"
      ]
     },
     "execution_count": 92,
     "metadata": {},
     "output_type": "execute_result"
    }
   ],
   "source": [
    "train_idx[0]"
   ]
  },
  {
   "cell_type": "code",
   "execution_count": 93,
   "id": "1b745748-3248-4359-8676-03492cadbcb2",
   "metadata": {
    "tags": []
   },
   "outputs": [
    {
     "data": {
      "text/plain": [
       "20351"
      ]
     },
     "execution_count": 93,
     "metadata": {},
     "output_type": "execute_result"
    }
   ],
   "source": [
    "shuffled_indices[0]"
   ]
  },
  {
   "cell_type": "code",
   "execution_count": 95,
   "id": "77c845f4-ef8b-46fa-997d-3d379d4dcfee",
   "metadata": {
    "tags": []
   },
   "outputs": [
    {
     "data": {
      "text/plain": [
       "tensor([[-8.7200e-02,  1.5214e+00, -1.1780e-01],\n",
       "        [-6.9200e-02,  3.1000e-03,  5.1300e-02],\n",
       "        [-1.4059e+00, -5.7040e-01,  2.3900e-02],\n",
       "        [-1.9779e+00, -1.1046e+00,  1.0835e+00],\n",
       "        [-3.1763e+00, -1.4916e+00,  7.0870e-01],\n",
       "        [-3.2762e+00, -1.1570e+00, -6.0300e-01],\n",
       "        [-4.4203e+00, -1.3552e+00, -1.3395e+00],\n",
       "        [-2.1748e+00, -5.7410e-01, -1.0719e+00],\n",
       "        [ 9.3690e-01,  1.9052e+00, -1.0380e-01],\n",
       "        [-5.4960e-01,  1.7964e+00, -1.0685e+00],\n",
       "        [-6.4670e-01,  1.9954e+00,  6.9320e-01],\n",
       "        [ 5.1140e-01, -4.7120e-01, -7.4540e-01],\n",
       "        [ 3.5380e-01, -2.9120e-01,  1.0135e+00],\n",
       "        [-5.0106e+00, -2.0853e+00, -9.6930e-01],\n",
       "        [-4.2674e+00, -1.4318e+00, -2.3339e+00]], dtype=torch.float64)"
      ]
     },
     "execution_count": 95,
     "metadata": {},
     "output_type": "execute_result"
    }
   ],
   "source": [
    "mol_features['positions'][20351]"
   ]
  },
  {
   "cell_type": "code",
   "execution_count": 2,
   "id": "850a82a0-68c9-47b5-b6f6-e9a62e5e9690",
   "metadata": {
    "tags": []
   },
   "outputs": [
    {
     "data": {
      "text/plain": [
       "array([     0,      1,      2, ..., 133882, 133883, 133884])"
      ]
     },
     "execution_count": 2,
     "metadata": {},
     "output_type": "execute_result"
    }
   ],
   "source": [
    "valid_ids = np.load(\"valid_id.npy\")\n",
    "valid_ids"
   ]
  },
  {
   "cell_type": "code",
   "execution_count": 3,
   "id": "49a64e0c-fe7e-4535-a12a-2a03e8597d5c",
   "metadata": {
    "tags": []
   },
   "outputs": [],
   "source": [
    "valid_df = df.iloc[valid_ids]"
   ]
  },
  {
   "cell_type": "code",
   "execution_count": 9,
   "id": "346e0747-a666-45ae-9941-a6b9dc9c29de",
   "metadata": {
    "tags": []
   },
   "outputs": [
    {
     "data": {
      "text/plain": [
       "26"
      ]
     },
     "execution_count": 9,
     "metadata": {},
     "output_type": "execute_result"
    }
   ],
   "source": [
    "len(valid_df['gap'][valid_df['gap']>=0.4])"
   ]
  },
  {
   "cell_type": "code",
   "execution_count": 10,
   "id": "dc6f9ef6-785b-43b3-b92f-5d1b7bff63ff",
   "metadata": {
    "tags": []
   },
   "outputs": [
    {
     "data": {
      "text/plain": [
       "26"
      ]
     },
     "execution_count": 10,
     "metadata": {},
     "output_type": "execute_result"
    }
   ],
   "source": [
    "len(valid_df['gap'][valid_df['gap']>=0.4])"
   ]
  },
  {
   "cell_type": "code",
   "execution_count": 11,
   "id": "8c96658c-2c9a-400e-964e-989f14a841d4",
   "metadata": {
    "tags": []
   },
   "outputs": [
    {
     "data": {
      "text/plain": [
       "0         0.5048\n",
       "1         0.3399\n",
       "2         0.3615\n",
       "3         0.3351\n",
       "4         0.3796\n",
       "           ...  \n",
       "133878    0.3206\n",
       "133879    0.3331\n",
       "133882    0.2953\n",
       "133883    0.3003\n",
       "133884    0.3058\n",
       "Name: gap, Length: 129428, dtype: float64"
      ]
     },
     "execution_count": 11,
     "metadata": {},
     "output_type": "execute_result"
    }
   ],
   "source": [
    "valid_df['gap']"
   ]
  },
  {
   "cell_type": "code",
   "execution_count": 12,
   "id": "01f812a3-c411-49e4-9538-8ed014eeb5f8",
   "metadata": {
    "tags": []
   },
   "outputs": [
    {
     "data": {
      "text/plain": [
       "0         0.5048\n",
       "6         0.4426\n",
       "12        0.4179\n",
       "20        0.4010\n",
       "38        0.4107\n",
       "104       0.4056\n",
       "132       0.4030\n",
       "183       0.6221\n",
       "830       0.4465\n",
       "4227      0.4306\n",
       "4232      0.4298\n",
       "23861     0.4117\n",
       "23864     0.4180\n",
       "23865     0.4802\n",
       "23887     0.4177\n",
       "23905     0.4170\n",
       "133549    0.4109\n",
       "133564    0.4150\n",
       "133607    0.4037\n",
       "133620    0.4620\n",
       "133653    0.4063\n",
       "133660    0.4015\n",
       "133743    0.4051\n",
       "133758    0.4128\n",
       "133795    0.4088\n",
       "133806    0.4074\n",
       "Name: gap, dtype: float64"
      ]
     },
     "execution_count": 12,
     "metadata": {},
     "output_type": "execute_result"
    }
   ],
   "source": [
    "valid_df['gap'][valid_df['gap']>=0.4]"
   ]
  },
  {
   "cell_type": "code",
   "execution_count": 14,
   "id": "9c9c90f3-b74d-497f-b626-5885fc8a463b",
   "metadata": {
    "tags": []
   },
   "outputs": [
    {
     "name": "stdout",
     "output_type": "stream",
     "text": [
      "yes\n"
     ]
    }
   ],
   "source": [
    "if 283 in train_df['gap'].index:\n",
    "    print('yes')\n",
    "else: print('no')"
   ]
  },
  {
   "cell_type": "code",
   "execution_count": 16,
   "id": "9a97fc9c-c71b-4f37-ad5d-72cf8887b3d9",
   "metadata": {
    "tags": []
   },
   "outputs": [
    {
     "data": {
      "text/plain": [
       "830       0.4465\n",
       "0         0.5048\n",
       "23861     0.4117\n",
       "132       0.4030\n",
       "23864     0.4180\n",
       "23905     0.4170\n",
       "133620    0.4620\n",
       "104       0.4056\n",
       "23887     0.4177\n",
       "133758    0.4128\n",
       "183       0.6221\n",
       "133564    0.4150\n",
       "12        0.4179\n",
       "133549    0.4109\n",
       "6         0.4426\n",
       "133743    0.4051\n",
       "4227      0.4306\n",
       "38        0.4107\n",
       "23865     0.4802\n",
       "133607    0.4037\n",
       "133653    0.4063\n",
       "133806    0.4074\n",
       "133795    0.4088\n",
       "Name: gap, dtype: float64"
      ]
     },
     "execution_count": 16,
     "metadata": {},
     "output_type": "execute_result"
    }
   ],
   "source": [
    "train_df['gap'][train_df['gap']>=0.4]"
   ]
  },
  {
   "cell_type": "code",
   "execution_count": 25,
   "id": "7856121f-5a75-4158-b5f3-82084ef8ebad",
   "metadata": {
    "tags": []
   },
   "outputs": [
    {
     "data": {
      "text/plain": [
       "0.5048"
      ]
     },
     "execution_count": 25,
     "metadata": {},
     "output_type": "execute_result"
    }
   ],
   "source": [
    "train_df['gap'].loc[0]"
   ]
  },
  {
   "cell_type": "code",
   "execution_count": 27,
   "id": "71f31ce2-c041-4818-b332-acd934f8482c",
   "metadata": {
    "tags": []
   },
   "outputs": [
    {
     "data": {
      "text/plain": [
       "0         0.5048\n",
       "1         0.3399\n",
       "2         0.3615\n",
       "3         0.3351\n",
       "4         0.3796\n",
       "           ...  \n",
       "133880    0.2842\n",
       "133881    0.3002\n",
       "133882    0.2953\n",
       "133883    0.3003\n",
       "133884    0.3058\n",
       "Name: gap, Length: 133885, dtype: float64"
      ]
     },
     "execution_count": 27,
     "metadata": {},
     "output_type": "execute_result"
    }
   ],
   "source": []
  },
  {
   "cell_type": "code",
   "execution_count": null,
   "id": "e6bde52e-c147-4b23-aa64-0cae688e4ca2",
   "metadata": {},
   "outputs": [],
   "source": []
  }
 ],
 "metadata": {
  "kernelspec": {
   "display_name": "flowmol",
   "language": "python",
   "name": "flowmol"
  },
  "language_info": {
   "codemirror_mode": {
    "name": "ipython",
    "version": 3
   },
   "file_extension": ".py",
   "mimetype": "text/x-python",
   "name": "python",
   "nbconvert_exporter": "python",
   "pygments_lexer": "ipython3",
   "version": "3.10.16"
  }
 },
 "nbformat": 4,
 "nbformat_minor": 5
}
